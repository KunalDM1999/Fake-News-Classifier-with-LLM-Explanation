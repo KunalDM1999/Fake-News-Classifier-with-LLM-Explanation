{
 "cells": [
  {
   "cell_type": "code",
   "execution_count": 4,
   "id": "855030a4-6559-4fdf-af29-f01705a9c0cd",
   "metadata": {},
   "outputs": [
    {
     "name": "stdout",
     "output_type": "stream",
     "text": [
      "subject_mapped\n",
      "politics         24142\n",
      "world            10923\n",
      "entertainment     9879\n",
      "general           9050\n",
      "national           783\n",
      "Name: count, dtype: int64\n"
     ]
    }
   ],
   "source": [
    "import pandas as pd\n",
    "\n",
    "# Load raw combined dataset\n",
    "df = pd.read_csv(\"data/processed/combined_news_type_dataset.csv\")\n",
    "import re\n",
    "\n",
    "def clean_text(text):\n",
    "    text = text.lower()\n",
    "    text = re.sub(r'\\W+', ' ', text)\n",
    "    text = re.sub(r'\\s+', ' ', text).strip()\n",
    "    return text\n",
    "\n",
    "df[\"text\"] = df[\"text\"].apply(clean_text)\n",
    "\n",
    "# Map raw subjects to generalized types\n",
    "subject_map = {\n",
    "    \"politicsNews\": \"politics\",\n",
    "    \"politics\": \"politics\",\n",
    "    \"Government News\": \"politics\",\n",
    "    \"left-news\": \"politics\",\n",
    "    \"US_News\": \"national\",\n",
    "    \"Middle-east\": \"world\",\n",
    "    \"worldnews\": \"world\",\n",
    "    \"News\": \"general\",\n",
    "    \"entertainment\": \"entertainment\"\n",
    "}\n",
    "df[\"subject_mapped\"] = df[\"subject\"].map(subject_map)\n",
    "\n",
    "# Drop old subject column\n",
    "df.drop(columns=[\"subject\"], inplace=True)\n",
    "\n",
    "# Check final class distribution\n",
    "print(df[\"subject_mapped\"].value_counts())\n"
   ]
  },
  {
   "cell_type": "code",
   "execution_count": 5,
   "id": "e63b0b31-8749-44d5-bcfe-deedcde12498",
   "metadata": {},
   "outputs": [],
   "source": [
    "from sklearn.model_selection import train_test_split\n",
    "\n",
    "X = df[\"text\"]\n",
    "y = df[\"subject_mapped\"]\n",
    "\n",
    "# 70/30 split\n",
    "X_train, X_test, y_train, y_test = train_test_split(\n",
    "    X, y, test_size=0.3, stratify=y, random_state=42)\n"
   ]
  },
  {
   "cell_type": "code",
   "execution_count": 6,
   "id": "1006a0da-b088-48c0-9b34-ffdee76b8b94",
   "metadata": {},
   "outputs": [],
   "source": [
    "from sklearn.preprocessing import LabelEncoder\n",
    "from tensorflow.keras.utils import to_categorical\n",
    "\n",
    "label_encoder = LabelEncoder()\n",
    "y_train_enc = label_encoder.fit_transform(y_train)\n",
    "y_test_enc = label_encoder.transform(y_test)\n",
    "\n",
    "# One-hot encode for DL\n",
    "y_train_cat = to_categorical(y_train_enc)\n",
    "y_test_cat = to_categorical(y_test_enc)\n",
    "\n",
    "# Save number of classes\n",
    "num_classes = y_train_cat.shape[1]\n"
   ]
  },
  {
   "cell_type": "code",
   "execution_count": 7,
   "id": "e61fc55c-fc2b-4ae8-987c-d4bed8165a55",
   "metadata": {},
   "outputs": [],
   "source": [
    "from tensorflow.keras.preprocessing.text import Tokenizer\n",
    "from tensorflow.keras.preprocessing.sequence import pad_sequences\n",
    "\n",
    "# Tokenize\n",
    "tokenizer = Tokenizer(num_words=10000, oov_token=\"<OOV>\")\n",
    "tokenizer.fit_on_texts(X_train)\n",
    "\n",
    "X_train_seq = tokenizer.texts_to_sequences(X_train)\n",
    "X_test_seq = tokenizer.texts_to_sequences(X_test)\n",
    "\n",
    "# Pad\n",
    "max_len = 300\n",
    "X_train_pad = pad_sequences(X_train_seq, maxlen=max_len, padding=\"post\")\n",
    "X_test_pad = pad_sequences(X_test_seq, maxlen=max_len, padding=\"post\")\n"
   ]
  },
  {
   "cell_type": "code",
   "execution_count": 8,
   "id": "852914c6-f54e-4ac7-b426-862a9564ce0f",
   "metadata": {},
   "outputs": [],
   "source": [
    "from tensorflow.keras.models import Sequential\n",
    "from tensorflow.keras.layers import Embedding, LSTM, GRU, Dense, Dropout, Conv1D, GlobalMaxPooling1D, Bidirectional\n",
    "\n",
    "# BiLSTM\n",
    "def build_bilstm():\n",
    "    model = Sequential([\n",
    "        Embedding(10000, 128, input_length=max_len),\n",
    "        Bidirectional(LSTM(64)),\n",
    "        Dropout(0.5),\n",
    "        Dense(64, activation='relu'),\n",
    "        Dense(num_classes, activation='softmax')\n",
    "    ])\n",
    "    model.compile(loss='categorical_crossentropy', optimizer='adam', metrics=['accuracy'])\n",
    "    return model\n",
    "\n",
    "# CNN\n",
    "def build_cnn():\n",
    "    model = Sequential([\n",
    "        Embedding(10000, 128, input_length=max_len),\n",
    "        Conv1D(128, 5, activation='relu'),\n",
    "        GlobalMaxPooling1D(),\n",
    "        Dense(64, activation='relu'),\n",
    "        Dropout(0.5),\n",
    "        Dense(num_classes, activation='softmax')\n",
    "    ])\n",
    "    model.compile(loss='categorical_crossentropy', optimizer='adam', metrics=['accuracy'])\n",
    "    return model\n",
    "\n",
    "# GRU\n",
    "def build_gru():\n",
    "    model = Sequential([\n",
    "        Embedding(10000, 128, input_length=max_len),\n",
    "        GRU(64),\n",
    "        Dropout(0.5),\n",
    "        Dense(64, activation='relu'),\n",
    "        Dense(num_classes, activation='softmax')\n",
    "    ])\n",
    "    model.compile(loss='categorical_crossentropy', optimizer='adam', metrics=['accuracy'])\n",
    "    return model\n"
   ]
  },
  {
   "cell_type": "code",
   "execution_count": 9,
   "id": "59d0c79d-f0b9-42fe-b08a-668b66f1505f",
   "metadata": {},
   "outputs": [],
   "source": [
    "from sklearn.metrics import classification_report, accuracy_score\n",
    "import numpy as np\n",
    "\n",
    "def train_and_evaluate(model, name):\n",
    "    print(f\"\\n Training {name}...\")\n",
    "    model.fit(X_train_pad, y_train_cat, validation_split=0.2, epochs=5, batch_size=64, verbose=2)\n",
    "\n",
    "    y_pred = model.predict(X_test_pad)\n",
    "    y_pred_class = np.argmax(y_pred, axis=1)\n",
    "\n",
    "    acc = accuracy_score(y_test_enc, y_pred_class)\n",
    "    print(f\"\\n Accuracy: {acc:.4f}\")\n",
    "    print(f\"\\n Classification Report for {name}:\")\n",
    "    print(classification_report(y_test_enc, y_pred_class, target_names=label_encoder.classes_))\n",
    "    return model\n"
   ]
  },
  {
   "cell_type": "code",
   "execution_count": 10,
   "id": "d2816625-4708-4d2e-9e94-ca8c9998ee52",
   "metadata": {},
   "outputs": [
    {
     "name": "stderr",
     "output_type": "stream",
     "text": [
      "C:\\Users\\admin\\fakenews_env\\lib\\site-packages\\keras\\src\\layers\\core\\embedding.py:97: UserWarning: Argument `input_length` is deprecated. Just remove it.\n",
      "  warnings.warn(\n"
     ]
    },
    {
     "name": "stdout",
     "output_type": "stream",
     "text": [
      "\n",
      "🔁 Training BiLSTM...\n",
      "Epoch 1/5\n",
      "480/480 - 256s - 533ms/step - accuracy: 0.8428 - loss: 0.4657 - val_accuracy: 0.9085 - val_loss: 0.2803\n",
      "Epoch 2/5\n",
      "480/480 - 175s - 365ms/step - accuracy: 0.9406 - loss: 0.1872 - val_accuracy: 0.9272 - val_loss: 0.1947\n",
      "Epoch 3/5\n",
      "480/480 - 202s - 421ms/step - accuracy: 0.9158 - loss: 0.2385 - val_accuracy: 0.9147 - val_loss: 0.3227\n",
      "Epoch 4/5\n",
      "480/480 - 177s - 368ms/step - accuracy: 0.9063 - loss: 0.2926 - val_accuracy: 0.8575 - val_loss: 0.3775\n",
      "Epoch 5/5\n",
      "480/480 - 178s - 372ms/step - accuracy: 0.9218 - loss: 0.2337 - val_accuracy: 0.9224 - val_loss: 0.2285\n",
      "\u001b[1m514/514\u001b[0m \u001b[32m━━━━━━━━━━━━━━━━━━━━\u001b[0m\u001b[37m\u001b[0m \u001b[1m33s\u001b[0m 63ms/step\n",
      "\n",
      "✅ Accuracy: 0.9255\n",
      "\n",
      "📊 Classification Report for BiLSTM:\n",
      "               precision    recall  f1-score   support\n",
      "\n",
      "entertainment       0.99      0.94      0.96      2964\n",
      "      general       1.00      0.99      0.99      2715\n",
      "     national       0.42      0.22      0.29       235\n",
      "     politics       0.94      0.93      0.94      7243\n",
      "        world       0.81      0.90      0.85      3277\n",
      "\n",
      "     accuracy                           0.93     16434\n",
      "    macro avg       0.83      0.80      0.81     16434\n",
      " weighted avg       0.93      0.93      0.92     16434\n",
      "\n",
      "\n",
      "🔁 Training CNN...\n",
      "Epoch 1/5\n"
     ]
    },
    {
     "name": "stderr",
     "output_type": "stream",
     "text": [
      "C:\\Users\\admin\\fakenews_env\\lib\\site-packages\\keras\\src\\layers\\core\\embedding.py:97: UserWarning: Argument `input_length` is deprecated. Just remove it.\n",
      "  warnings.warn(\n"
     ]
    },
    {
     "name": "stdout",
     "output_type": "stream",
     "text": [
      "480/480 - 68s - 141ms/step - accuracy: 0.8577 - loss: 0.3933 - val_accuracy: 0.9484 - val_loss: 0.1374\n",
      "Epoch 2/5\n",
      "480/480 - 66s - 138ms/step - accuracy: 0.9546 - loss: 0.1280 - val_accuracy: 0.9531 - val_loss: 0.1209\n",
      "Epoch 3/5\n",
      "480/480 - 65s - 136ms/step - accuracy: 0.9679 - loss: 0.0806 - val_accuracy: 0.9512 - val_loss: 0.1212\n",
      "Epoch 4/5\n",
      "480/480 - 65s - 136ms/step - accuracy: 0.9758 - loss: 0.0548 - val_accuracy: 0.9476 - val_loss: 0.1408\n",
      "Epoch 5/5\n",
      "480/480 - 65s - 136ms/step - accuracy: 0.9783 - loss: 0.0470 - val_accuracy: 0.9488 - val_loss: 0.1478\n",
      "\u001b[1m514/514\u001b[0m \u001b[32m━━━━━━━━━━━━━━━━━━━━\u001b[0m\u001b[37m\u001b[0m \u001b[1m8s\u001b[0m 16ms/step\n",
      "\n",
      "✅ Accuracy: 0.9447\n",
      "\n",
      "📊 Classification Report for CNN:\n",
      "               precision    recall  f1-score   support\n",
      "\n",
      "entertainment       0.99      0.98      0.98      2964\n",
      "      general       0.99      0.99      0.99      2715\n",
      "     national       0.37      0.39      0.38       235\n",
      "     politics       0.96      0.96      0.96      7243\n",
      "        world       0.88      0.89      0.88      3277\n",
      "\n",
      "     accuracy                           0.94     16434\n",
      "    macro avg       0.84      0.84      0.84     16434\n",
      " weighted avg       0.95      0.94      0.95     16434\n",
      "\n",
      "\n",
      "🔁 Training GRU...\n",
      "Epoch 1/5\n"
     ]
    },
    {
     "name": "stderr",
     "output_type": "stream",
     "text": [
      "C:\\Users\\admin\\fakenews_env\\lib\\site-packages\\keras\\src\\layers\\core\\embedding.py:97: UserWarning: Argument `input_length` is deprecated. Just remove it.\n",
      "  warnings.warn(\n"
     ]
    },
    {
     "name": "stdout",
     "output_type": "stream",
     "text": [
      "480/480 - 99s - 206ms/step - accuracy: 0.7098 - loss: 0.7150 - val_accuracy: 0.9129 - val_loss: 0.2531\n",
      "Epoch 2/5\n",
      "480/480 - 91s - 189ms/step - accuracy: 0.9358 - loss: 0.1953 - val_accuracy: 0.9429 - val_loss: 0.1466\n",
      "Epoch 3/5\n",
      "480/480 - 90s - 187ms/step - accuracy: 0.9615 - loss: 0.1065 - val_accuracy: 0.9442 - val_loss: 0.1525\n",
      "Epoch 4/5\n",
      "480/480 - 90s - 187ms/step - accuracy: 0.9699 - loss: 0.0801 - val_accuracy: 0.9475 - val_loss: 0.1671\n",
      "Epoch 5/5\n",
      "480/480 - 89s - 186ms/step - accuracy: 0.9723 - loss: 0.0664 - val_accuracy: 0.9454 - val_loss: 0.1775\n",
      "\u001b[1m514/514\u001b[0m \u001b[32m━━━━━━━━━━━━━━━━━━━━\u001b[0m\u001b[37m\u001b[0m \u001b[1m21s\u001b[0m 41ms/step\n",
      "\n",
      "✅ Accuracy: 0.9423\n",
      "\n",
      "📊 Classification Report for GRU:\n",
      "               precision    recall  f1-score   support\n",
      "\n",
      "entertainment       0.99      0.97      0.98      2964\n",
      "      general       1.00      0.99      0.99      2715\n",
      "     national       0.00      0.00      0.00       235\n",
      "     politics       0.95      0.95      0.95      7243\n",
      "        world       0.84      0.93      0.88      3277\n",
      "\n",
      "     accuracy                           0.94     16434\n",
      "    macro avg       0.76      0.77      0.76     16434\n",
      " weighted avg       0.93      0.94      0.94     16434\n",
      "\n"
     ]
    },
    {
     "name": "stderr",
     "output_type": "stream",
     "text": [
      "C:\\Users\\admin\\fakenews_env\\lib\\site-packages\\sklearn\\metrics\\_classification.py:1706: UndefinedMetricWarning: Precision is ill-defined and being set to 0.0 in labels with no predicted samples. Use `zero_division` parameter to control this behavior.\n",
      "  _warn_prf(average, modifier, f\"{metric.capitalize()} is\", result.shape[0])\n",
      "C:\\Users\\admin\\fakenews_env\\lib\\site-packages\\sklearn\\metrics\\_classification.py:1706: UndefinedMetricWarning: Precision is ill-defined and being set to 0.0 in labels with no predicted samples. Use `zero_division` parameter to control this behavior.\n",
      "  _warn_prf(average, modifier, f\"{metric.capitalize()} is\", result.shape[0])\n",
      "C:\\Users\\admin\\fakenews_env\\lib\\site-packages\\sklearn\\metrics\\_classification.py:1706: UndefinedMetricWarning: Precision is ill-defined and being set to 0.0 in labels with no predicted samples. Use `zero_division` parameter to control this behavior.\n",
      "  _warn_prf(average, modifier, f\"{metric.capitalize()} is\", result.shape[0])\n"
     ]
    }
   ],
   "source": [
    "bilstm_model = train_and_evaluate(build_bilstm(), \"BiLSTM\")\n",
    "cnn_model = train_and_evaluate(build_cnn(), \"CNN\")\n",
    "gru_model = train_and_evaluate(build_gru(), \"GRU\")\n"
   ]
  },
  {
   "cell_type": "code",
   "execution_count": 12,
   "id": "00ece3e7-a147-4c78-9d33-e00a46b70306",
   "metadata": {},
   "outputs": [
    {
     "name": "stdout",
     "output_type": "stream",
     "text": [
      "\u001b[1m514/514\u001b[0m \u001b[32m━━━━━━━━━━━━━━━━━━━━\u001b[0m\u001b[37m\u001b[0m \u001b[1m28s\u001b[0m 54ms/step\n",
      "\u001b[1m514/514\u001b[0m \u001b[32m━━━━━━━━━━━━━━━━━━━━\u001b[0m\u001b[37m\u001b[0m \u001b[1m8s\u001b[0m 16ms/step\n",
      "\u001b[1m514/514\u001b[0m \u001b[32m━━━━━━━━━━━━━━━━━━━━\u001b[0m\u001b[37m\u001b[0m \u001b[1m21s\u001b[0m 40ms/step\n"
     ]
    }
   ],
   "source": [
    "import numpy as np\n",
    "from sklearn.metrics import f1_score\n",
    "\n",
    "# Predict probabilities\n",
    "y_pred_bilstm = bilstm_model.predict(X_test_pad)\n",
    "y_pred_cnn    = cnn_model.predict(X_test_pad)\n",
    "y_pred_gru    = gru_model.predict(X_test_pad)\n",
    "\n",
    "# Convert probabilities to class predictions\n",
    "y_pred_bilstm_cls = np.argmax(y_pred_bilstm, axis=1)\n",
    "y_pred_cnn_cls    = np.argmax(y_pred_cnn, axis=1)\n",
    "y_pred_gru_cls    = np.argmax(y_pred_gru, axis=1)\n"
   ]
  },
  {
   "cell_type": "code",
   "execution_count": 13,
   "id": "40b579fa-a4f1-41d0-b3e6-4ce659eb54ba",
   "metadata": {},
   "outputs": [
    {
     "name": "stdout",
     "output_type": "stream",
     "text": [
      "BiLSTM F1-score: 0.9244\n",
      "CNN    F1-score: 0.9451\n",
      "GRU    F1-score: 0.9364\n"
     ]
    }
   ],
   "source": [
    "f1_bilstm = f1_score(y_test_enc, y_pred_bilstm_cls, average='weighted')\n",
    "f1_cnn    = f1_score(y_test_enc, y_pred_cnn_cls, average='weighted')\n",
    "f1_gru    = f1_score(y_test_enc, y_pred_gru_cls, average='weighted')\n",
    "\n",
    "print(f\"BiLSTM F1-score: {f1_bilstm:.4f}\")\n",
    "print(f\"CNN    F1-score: {f1_cnn:.4f}\")\n",
    "print(f\"GRU    F1-score: {f1_gru:.4f}\")\n"
   ]
  },
  {
   "cell_type": "code",
   "execution_count": 14,
   "id": "96b755af-6913-4337-9f4e-5291061a0330",
   "metadata": {},
   "outputs": [
    {
     "name": "stdout",
     "output_type": "stream",
     "text": [
      "\n",
      "🔍 Best DL Model: CNN with F1-score: 0.9451\n"
     ]
    }
   ],
   "source": [
    "best_model_name = max(\n",
    "    [('BiLSTM', f1_bilstm), ('CNN', f1_cnn), ('GRU', f1_gru)],\n",
    "    key=lambda x: x[1]\n",
    ")\n",
    "\n",
    "print(f\"\\nBest DL Model: {best_model_name[0]} with F1-score: {best_model_name[1]:.4f}\")\n"
   ]
  },
  {
   "cell_type": "code",
   "execution_count": 15,
   "id": "3bb58bfc-45de-45d1-885b-149fe247aa13",
   "metadata": {},
   "outputs": [
    {
     "data": {
      "text/plain": [
       "<Figure size 1000x600 with 0 Axes>"
      ]
     },
     "metadata": {},
     "output_type": "display_data"
    },
    {
     "data": {
      "image/png": "[encoded data removed]",
      "text/plain": [
       "<Figure size 640x480 with 2 Axes>"
      ]
     },
     "metadata": {},
     "output_type": "display_data"
    }
   ],
   "source": [
    "# Confusion Matrix\n",
    "cm = confusion_matrix(y_test_enc, y_pred_labels)\n",
    "disp = ConfusionMatrixDisplay(confusion_matrix=cm, display_labels=label_encoder.classes_)\n",
    "\n",
    "# Plot\n",
    "plt.figure(figsize=(10, 6))\n",
    "disp.plot(xticks_rotation=45, cmap=\"Blues\", values_format='d')\n",
    "plt.title(\"Confusion Matrix - Best DL Model \")\n",
    "plt.show()\n"
   ]
  },
  {
   "cell_type": "code",
   "execution_count": 21,
   "id": "f478b1a2-aa2b-4877-9bc9-53da9601a66e",
   "metadata": {},
   "outputs": [
    {
     "name": "stderr",
     "output_type": "stream",
     "text": [
      "WARNING:absl:You are saving your model as an HDF5 file via `model.save()` or `keras.saving.save_model(model)`. This file format is considered legacy. We recommend using instead the native Keras format, e.g. `model.save('my_model.keras')` or `keras.saving.save_model(model, 'my_model.keras')`. \n"
     ]
    },
    {
     "data": {
      "text/plain": [
       "['models/cnn_tokenizer.pkl']"
      ]
     },
     "execution_count": 21,
     "metadata": {},
     "output_type": "execute_result"
    }
   ],
   "source": [
    "cnn_model.save(\"models/cnn_model.h5\")\n",
    "import joblib\n",
    "\n",
    "joblib.dump(tokenizer, \"models/cnn_tokenizer.pkl\")\n",
    "\n"
   ]
  },
  {
   "cell_type": "code",
   "execution_count": null,
   "id": "e86c9130-5f90-4d11-8553-d83b0d95d30c",
   "metadata": {},
   "outputs": [],
   "source": []
  }
 ],
 "metadata": {
  "kernelspec": {
   "display_name": "Python (FakeNewsEnv)",
   "language": "python",
   "name": "fakenews_env"
  },
  "language_info": {
   "codemirror_mode": {
    "name": "ipython",
    "version": 3
   },
   "file_extension": ".py",
   "mimetype": "text/x-python",
   "name": "python",
   "nbconvert_exporter": "python",
   "pygments_lexer": "ipython3",
   "version": "3.10.0"
  }
 },
 "nbformat": 4,
 "nbformat_minor": 5
}
