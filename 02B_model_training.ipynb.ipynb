{
 "cells": [
  {
   "cell_type": "code",
   "execution_count": 1,
   "id": "c6b90d93-8f21-4d5a-b918-07729e912a9b",
   "metadata": {},
   "outputs": [
    {
     "name": "stdout",
     "output_type": "stream",
     "text": [
      "Collecting xgboost\n",
      "  Using cached xgboost-3.0.2-py3-none-win_amd64.whl.metadata (2.1 kB)\n",
      "Requirement already satisfied: numpy in c:\\users\\admin\\fakenews_env\\lib\\site-packages (from xgboost) (2.1.3)\n",
      "Requirement already satisfied: scipy in c:\\users\\admin\\fakenews_env\\lib\\site-packages (from xgboost) (1.15.3)\n",
      "Using cached xgboost-3.0.2-py3-none-win_amd64.whl (150.0 MB)\n",
      "Installing collected packages: xgboost\n",
      "Successfully installed xgboost-3.0.2\n"
     ]
    }
   ],
   "source": [
    "!pip install xgboost\n"
   ]
  },
  {
   "cell_type": "code",
   "execution_count": 2,
   "id": "a1897863-3ebc-4096-98e6-2167bddc13ee",
   "metadata": {},
   "outputs": [
    {
     "name": "stdout",
     "output_type": "stream",
     "text": [
      "C:\\Users\\admin\\fakenews_env\\Scripts\\python.exe\n"
     ]
    }
   ],
   "source": [
    "import sys\n",
    "print(sys.executable)\n"
   ]
  },
  {
   "cell_type": "code",
   "execution_count": 7,
   "id": "125581cd-f256-427f-a065-0bc1addfb57c",
   "metadata": {},
   "outputs": [],
   "source": [
    "# --- Imports ---\n",
    "import pandas as pd\n",
    "import numpy as np\n",
    "\n",
    "from sklearn.model_selection import train_test_split, cross_val_score\n",
    "from sklearn.naive_bayes import MultinomialNB\n",
    "from sklearn.ensemble import RandomForestClassifier\n",
    "from xgboost import XGBClassifier\n",
    "\n",
    "from sklearn.metrics import accuracy_score, classification_report, confusion_matrix, ConfusionMatrixDisplay\n",
    "\n",
    "# --- Load Data ---\n",
    "X_train = pd.read_csv(\"data/processed/X_train.csv\")\n",
    "X_test = pd.read_csv(\"data/processed/X_test.csv\")\n",
    "y_train = pd.read_csv(\"data/processed/y_train.csv\").squeeze()\n",
    "y_test = pd.read_csv(\"data/processed/y_test.csv\").squeeze()\n"
   ]
  },
  {
   "cell_type": "code",
   "execution_count": 4,
   "id": "efa9f688-bda2-492c-891f-fbbe3f97e1ee",
   "metadata": {},
   "outputs": [
    {
     "name": "stdout",
     "output_type": "stream",
     "text": [
      "\n",
      "=== MultinomialNB ===\n",
      "Accuracy: 0.8493\n",
      "Cross-Validated Accuracy: 0.8526\n",
      "Classification Report:\n",
      "              precision    recall  f1-score   support\n",
      "\n",
      "           0       0.95      0.96      0.96      2964\n",
      "           1       0.78      0.78      0.78      2715\n",
      "           2       0.47      0.36      0.41       235\n",
      "           3       0.85      0.84      0.84      7243\n",
      "           4       0.83      0.87      0.85      3277\n",
      "\n",
      "    accuracy                           0.85     16434\n",
      "   macro avg       0.78      0.76      0.77     16434\n",
      "weighted avg       0.85      0.85      0.85     16434\n",
      "\n",
      "\n",
      "=== RandomForest ===\n",
      "Accuracy: 0.9353\n",
      "Cross-Validated Accuracy: 0.9357\n",
      "Classification Report:\n",
      "              precision    recall  f1-score   support\n",
      "\n",
      "           0       0.99      0.96      0.97      2964\n",
      "           1       0.99      0.98      0.98      2715\n",
      "           2       0.07      0.06      0.07       235\n",
      "           3       0.94      0.97      0.96      7243\n",
      "           4       0.88      0.87      0.87      3277\n",
      "\n",
      "    accuracy                           0.94     16434\n",
      "   macro avg       0.77      0.77      0.77     16434\n",
      "weighted avg       0.93      0.94      0.93     16434\n",
      "\n"
     ]
    },
    {
     "name": "stderr",
     "output_type": "stream",
     "text": [
      "C:\\Users\\admin\\fakenews_env\\lib\\site-packages\\xgboost\\training.py:183: UserWarning: [23:46:45] WARNING: C:\\actions-runner\\_work\\xgboost\\xgboost\\src\\learner.cc:738: \n",
      "Parameters: { \"use_label_encoder\" } are not used.\n",
      "\n",
      "  bst.update(dtrain, iteration=i, fobj=obj)\n",
      "C:\\Users\\admin\\fakenews_env\\lib\\site-packages\\xgboost\\training.py:183: UserWarning: [00:02:00] WARNING: C:\\actions-runner\\_work\\xgboost\\xgboost\\src\\learner.cc:738: \n",
      "Parameters: { \"use_label_encoder\" } are not used.\n",
      "\n",
      "  bst.update(dtrain, iteration=i, fobj=obj)\n",
      "C:\\Users\\admin\\fakenews_env\\lib\\site-packages\\xgboost\\training.py:183: UserWarning: [00:14:54] WARNING: C:\\actions-runner\\_work\\xgboost\\xgboost\\src\\learner.cc:738: \n",
      "Parameters: { \"use_label_encoder\" } are not used.\n",
      "\n",
      "  bst.update(dtrain, iteration=i, fobj=obj)\n",
      "C:\\Users\\admin\\fakenews_env\\lib\\site-packages\\xgboost\\training.py:183: UserWarning: [00:27:48] WARNING: C:\\actions-runner\\_work\\xgboost\\xgboost\\src\\learner.cc:738: \n",
      "Parameters: { \"use_label_encoder\" } are not used.\n",
      "\n",
      "  bst.update(dtrain, iteration=i, fobj=obj)\n",
      "C:\\Users\\admin\\fakenews_env\\lib\\site-packages\\xgboost\\training.py:183: UserWarning: [00:40:40] WARNING: C:\\actions-runner\\_work\\xgboost\\xgboost\\src\\learner.cc:738: \n",
      "Parameters: { \"use_label_encoder\" } are not used.\n",
      "\n",
      "  bst.update(dtrain, iteration=i, fobj=obj)\n",
      "C:\\Users\\admin\\fakenews_env\\lib\\site-packages\\xgboost\\training.py:183: UserWarning: [00:53:44] WARNING: C:\\actions-runner\\_work\\xgboost\\xgboost\\src\\learner.cc:738: \n",
      "Parameters: { \"use_label_encoder\" } are not used.\n",
      "\n",
      "  bst.update(dtrain, iteration=i, fobj=obj)\n"
     ]
    },
    {
     "name": "stdout",
     "output_type": "stream",
     "text": [
      "\n",
      "=== XGBoost ===\n",
      "Accuracy: 0.9441\n",
      "Cross-Validated Accuracy: 0.9440\n",
      "Classification Report:\n",
      "              precision    recall  f1-score   support\n",
      "\n",
      "           0       0.99      0.98      0.98      2964\n",
      "           1       0.99      0.98      0.99      2715\n",
      "           2       0.18      0.20      0.19       235\n",
      "           3       0.96      0.97      0.97      7243\n",
      "           4       0.88      0.88      0.88      3277\n",
      "\n",
      "    accuracy                           0.94     16434\n",
      "   macro avg       0.80      0.80      0.80     16434\n",
      "weighted avg       0.95      0.94      0.94     16434\n",
      "\n"
     ]
    }
   ],
   "source": [
    "# --- Define Models ---\n",
    "models = {\n",
    "    \"MultinomialNB\": MultinomialNB(),\n",
    "    \"RandomForest\": RandomForestClassifier(n_estimators=100, random_state=42),\n",
    "    \"XGBoost\": XGBClassifier(use_label_encoder=False, eval_metric='mlogloss', random_state=42)\n",
    "}\n",
    "\n",
    "results = {}\n",
    "\n",
    "# --- Train and Evaluate ---\n",
    "for name, model in models.items():\n",
    "    model.fit(X_train, y_train)\n",
    "    preds = model.predict(X_test)\n",
    "    \n",
    "    acc = accuracy_score(y_test, preds)\n",
    "    report = classification_report(y_test, preds)\n",
    "    \n",
    "    cv_score = cross_val_score(model, X_train, y_train, cv=5, scoring='accuracy').mean()\n",
    "    \n",
    "    print(f\"\\n=== {name} ===\")\n",
    "    print(f\"Accuracy: {acc:.4f}\")\n",
    "    print(f\"Cross-Validated Accuracy: {cv_score:.4f}\")\n",
    "    print(\"Classification Report:\")\n",
    "    print(report)\n",
    "    \n",
    "    results[name] = {\n",
    "        \"model\": model,\n",
    "        \"accuracy\": acc,\n",
    "        \"cv_accuracy\": cv_score,\n",
    "        \"report\": report,\n",
    "        \"preds\": preds\n",
    "    }\n"
   ]
  },
  {
   "cell_type": "code",
   "execution_count": 5,
   "id": "c9a2cba7-0313-4718-9fb1-87f2509ed48a",
   "metadata": {},
   "outputs": [
    {
     "name": "stdout",
     "output_type": "stream",
     "text": [
      "\n",
      "✅ Best Model: XGBoost\n"
     ]
    },
    {
     "data": {
      "text/plain": [
       "<sklearn.metrics._plot.confusion_matrix.ConfusionMatrixDisplay at 0x2d7ab34b610>"
      ]
     },
     "execution_count": 5,
     "metadata": {},
     "output_type": "execute_result"
    },
    {
     "data": {
      "image/png": "[encoded data removed]",
      "text/plain": [
       "<Figure size 640x480 with 2 Axes>"
      ]
     },
     "metadata": {},
     "output_type": "display_data"
    }
   ],
   "source": [
    "# --- Select Best Model by Cross-Val Accuracy ---\n",
    "best_model_name = max(results, key=lambda x: results[x][\"cv_accuracy\"])\n",
    "best_model = results[best_model_name][\"model\"]\n",
    "best_preds = results[best_model_name][\"preds\"]\n",
    "\n",
    "# --- Confusion Matrix ---\n",
    "print(f\"\\n✅ Best Model: {best_model_name}\")\n",
    "cm = confusion_matrix(y_test, best_preds)\n",
    "disp = ConfusionMatrixDisplay(confusion_matrix=cm, display_labels=best_model.classes_)\n",
    "disp.plot(xticks_rotation=45)\n"
   ]
  },
  {
   "cell_type": "code",
   "execution_count": 8,
   "id": "23ac57bc-fade-4fa8-9129-61795722395e",
   "metadata": {},
   "outputs": [
    {
     "name": "stderr",
     "output_type": "stream",
     "text": [
      "C:\\Users\\admin\\fakenews_env\\lib\\site-packages\\xgboost\\training.py:183: UserWarning: [12:51:10] WARNING: C:\\actions-runner\\_work\\xgboost\\xgboost\\src\\learner.cc:738: \n",
      "Parameters: { \"use_label_encoder\" } are not used.\n",
      "\n",
      "  bst.update(dtrain, iteration=i, fobj=obj)\n"
     ]
    },
    {
     "name": "stdout",
     "output_type": "stream",
     "text": [
      "✅ Accuracy: 0.9441\n",
      "\n",
      "📊 Classification Report:\n",
      "               precision    recall  f1-score   support\n",
      "\n",
      "           0       0.99      0.98      0.98      2964\n",
      "           1       0.99      0.98      0.99      2715\n",
      "           2       0.18      0.20      0.19       235\n",
      "           3       0.96      0.97      0.97      7243\n",
      "           4       0.88      0.88      0.88      3277\n",
      "\n",
      "    accuracy                           0.94     16434\n",
      "   macro avg       0.80      0.80      0.80     16434\n",
      "weighted avg       0.95      0.94      0.94     16434\n",
      "\n",
      "📦 XGBoost model saved to: models/xgb_subject_classifier.pkl\n"
     ]
    }
   ],
   "source": [
    "import pandas as pd\n",
    "from xgboost import XGBClassifier\n",
    "from sklearn.metrics import accuracy_score, classification_report\n",
    "import joblib\n",
    "\n",
    "# === 2. Train XGBoost Model ===\n",
    "xgb_model = XGBClassifier(use_label_encoder=False, eval_metric='mlogloss', random_state=42)\n",
    "xgb_model.fit(X_train, y_train)\n",
    "\n",
    "# === 3. Evaluate ===\n",
    "preds = xgb_model.predict(X_test)\n",
    "\n",
    "acc = accuracy_score(y_test, preds)\n",
    "report = classification_report(y_test, preds)\n",
    "\n",
    "print(f\"✅ Accuracy: {acc:.4f}\")\n",
    "print(\"\\n📊 Classification Report:\\n\", report)\n",
    "\n",
    "# === 4. Save Model ===\n",
    "joblib.dump(xgb_model, \"models/xgb_subject_classifier.pkl\")\n",
    "print(\"📦 XGBoost model saved to: models/xgb_subject_classifier.pkl\")\n"
   ]
  },
  {
   "cell_type": "code",
   "execution_count": null,
   "id": "2f2fb902-c965-43bf-b58d-94ffa8ff3043",
   "metadata": {},
   "outputs": [],
   "source": []
  }
 ],
 "metadata": {
  "kernelspec": {
   "display_name": "Python (FakeNewsEnv)",
   "language": "python",
   "name": "fakenews_env"
  },
  "language_info": {
   "codemirror_mode": {
    "name": "ipython",
    "version": 3
   },
   "file_extension": ".py",
   "mimetype": "text/x-python",
   "name": "python",
   "nbconvert_exporter": "python",
   "pygments_lexer": "ipython3",
   "version": "3.10.0"
  }
 },
 "nbformat": 4,
 "nbformat_minor": 5
}
