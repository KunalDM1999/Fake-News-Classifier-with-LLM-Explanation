{
 "cells": [
  {
   "cell_type": "code",
   "execution_count": 1,
   "id": "35417163-e01c-433c-b527-822b422dcf89",
   "metadata": {},
   "outputs": [
    {
     "data": {
      "text/html": [
       "<div>\n",
       "<style scoped>\n",
       "    .dataframe tbody tr th:only-of-type {\n",
       "        vertical-align: middle;\n",
       "    }\n",
       "\n",
       "    .dataframe tbody tr th {\n",
       "        vertical-align: top;\n",
       "    }\n",
       "\n",
       "    .dataframe thead th {\n",
       "        text-align: right;\n",
       "    }\n",
       "</style>\n",
       "<table border=\"1\" class=\"dataframe\">\n",
       "  <thead>\n",
       "    <tr style=\"text-align: right;\">\n",
       "      <th></th>\n",
       "      <th>text</th>\n",
       "      <th>subject</th>\n",
       "      <th>source</th>\n",
       "    </tr>\n",
       "  </thead>\n",
       "  <tbody>\n",
       "    <tr>\n",
       "      <th>0</th>\n",
       "      <td>IRAN MAKES MAJOR Announcement About How They P...</td>\n",
       "      <td>politics</td>\n",
       "      <td>kaggle</td>\n",
       "    </tr>\n",
       "    <tr>\n",
       "      <th>1</th>\n",
       "      <td>Britain seeks new ways to detect explosives in...</td>\n",
       "      <td>worldnews</td>\n",
       "      <td>kaggle</td>\n",
       "    </tr>\n",
       "    <tr>\n",
       "      <th>2</th>\n",
       "      <td>Fox News Host Calls GOP Out On Voter ID Laws ...</td>\n",
       "      <td>News</td>\n",
       "      <td>kaggle</td>\n",
       "    </tr>\n",
       "    <tr>\n",
       "      <th>3</th>\n",
       "      <td>AUSTRIAN JUSTICE SYSTEM Gives Teen With Homema...</td>\n",
       "      <td>left-news</td>\n",
       "      <td>kaggle</td>\n",
       "    </tr>\n",
       "    <tr>\n",
       "      <th>4</th>\n",
       "      <td>What Katy Perry Did With This Gift John Mayer ...</td>\n",
       "      <td>entertainment</td>\n",
       "      <td>gossipcop</td>\n",
       "    </tr>\n",
       "  </tbody>\n",
       "</table>\n",
       "</div>"
      ],
      "text/plain": [
       "                                                text        subject     source\n",
       "0  IRAN MAKES MAJOR Announcement About How They P...       politics     kaggle\n",
       "1  Britain seeks new ways to detect explosives in...      worldnews     kaggle\n",
       "2   Fox News Host Calls GOP Out On Voter ID Laws ...           News     kaggle\n",
       "3  AUSTRIAN JUSTICE SYSTEM Gives Teen With Homema...      left-news     kaggle\n",
       "4  What Katy Perry Did With This Gift John Mayer ...  entertainment  gossipcop"
      ]
     },
     "execution_count": 1,
     "metadata": {},
     "output_type": "execute_result"
    }
   ],
   "source": [
    "import pandas as pd\n",
    "\n",
    "df = pd.read_csv(\"data/processed/combined_news_type_dataset.csv\")\n",
    "df.head()\n"
   ]
  },
  {
   "cell_type": "code",
   "execution_count": 2,
   "id": "0df55e7d-dba6-486d-b48e-2050b25d8f29",
   "metadata": {},
   "outputs": [
    {
     "name": "stdout",
     "output_type": "stream",
     "text": [
      "subject\n",
      "politicsNews       11272\n",
      "worldnews          10145\n",
      "entertainment       9879\n",
      "News                9050\n",
      "politics            6841\n",
      "left-news           4459\n",
      "Government News     1570\n",
      "US_News              783\n",
      "Middle-east          778\n",
      "Name: count, dtype: int64\n"
     ]
    }
   ],
   "source": [
    "print(df['subject'].value_counts())\n",
    "\n"
   ]
  },
  {
   "cell_type": "code",
   "execution_count": 3,
   "id": "0edcf0e4-4818-4bec-b2d3-8532a2d3d307",
   "metadata": {},
   "outputs": [
    {
     "name": "stdout",
     "output_type": "stream",
     "text": [
      "subject_mapped\n",
      "politics         24142\n",
      "world            10923\n",
      "entertainment     9879\n",
      "general           9050\n",
      "national           783\n",
      "Name: count, dtype: int64\n"
     ]
    }
   ],
   "source": [
    "# Define the mapping dictionary\n",
    "subject_map = {\n",
    "    \"politicsNews\": \"politics\",\n",
    "    \"politics\": \"politics\",\n",
    "    \"Government News\": \"politics\",\n",
    "    \"left-news\": \"politics\",\n",
    "    \"US_News\": \"national\",\n",
    "    \"Middle-east\": \"world\",\n",
    "    \"worldnews\": \"world\",\n",
    "    \"News\": \"general\",\n",
    "    \"entertainment\": \"entertainment\"\n",
    "}\n",
    "\n",
    "# Apply the mapping\n",
    "df[\"subject_mapped\"] = df[\"subject\"].map(subject_map)\n",
    "\n",
    "# Check new class distribution\n",
    "print(df[\"subject_mapped\"].value_counts())\n"
   ]
  },
  {
   "cell_type": "code",
   "execution_count": 15,
   "id": "8983da21-8a3b-46e6-8295-a440857a8393",
   "metadata": {},
   "outputs": [],
   "source": [
    "import spacy\n",
    "from sklearn.feature_extraction.text import TfidfVectorizer\n",
    "from sklearn.preprocessing import LabelEncoder\n",
    "from sklearn.model_selection import train_test_split\n",
    "import pandas as pd\n"
   ]
  },
  {
   "cell_type": "code",
   "execution_count": 17,
   "id": "10bab813-4204-4d7e-a899-38e1dc71562a",
   "metadata": {},
   "outputs": [],
   "source": [
    "nlp = spacy.load(\"en_core_web_sm\")\n",
    "\n",
    "def spacy_tokenizer(text):\n",
    "    doc = nlp(text.lower())\n",
    "    tokens = [token.lemma_ for token in doc if not token.is_stop and not token.is_punct and not token.is_space]\n",
    "    return \" \".join(tokens)\n",
    "\n",
    "df[\"text_clean\"] = df[\"text\"].astype(str).apply(spacy_tokenizer)\n"
   ]
  },
  {
   "cell_type": "code",
   "execution_count": 18,
   "id": "bffa523d-8431-4781-b0f0-defe918c7f39",
   "metadata": {},
   "outputs": [],
   "source": [
    "tfidf = TfidfVectorizer(max_features=5000)\n",
    "X = tfidf.fit_transform(df[\"text_clean\"])\n"
   ]
  },
  {
   "cell_type": "code",
   "execution_count": 19,
   "id": "daa4d917-7087-4d87-9523-f19e665625cc",
   "metadata": {},
   "outputs": [],
   "source": [
    "le = LabelEncoder()\n",
    "y = le.fit_transform(df[\"subject_mapped\"])\n"
   ]
  },
  {
   "cell_type": "code",
   "execution_count": 20,
   "id": "92f1d367-6882-467a-ad74-6f3495416f0e",
   "metadata": {},
   "outputs": [],
   "source": [
    "X_train, X_test, y_train, y_test = train_test_split(X, y, \n",
    "                                                    test_size=0.3, \n",
    "                                                    random_state=42, \n",
    "                                                    stratify=y)\n"
   ]
  },
  {
   "cell_type": "code",
   "execution_count": 21,
   "id": "9063ff92-550c-4f71-873c-e9b562a18449",
   "metadata": {},
   "outputs": [],
   "source": [
    "import joblib\n",
    "\n",
    "joblib.dump(tfidf, \"models/spacy_tfidf_vectorizer.pkl\")\n",
    "joblib.dump(le, \"models/label_encoder.pkl\")\n",
    "\n",
    "pd.DataFrame(X_train.toarray()).to_csv(\"data/processed/X_train.csv\", index=False)\n",
    "pd.DataFrame(X_test.toarray()).to_csv(\"data/processed/X_test.csv\", index=False)\n",
    "pd.DataFrame({\"label\": y_train}).to_csv(\"data/processed/y_train.csv\", index=False)\n",
    "pd.DataFrame({\"label\": y_test}).to_csv(\"data/processed/y_test.csv\", index=False)\n",
    "\n"
   ]
  },
  {
   "cell_type": "code",
   "execution_count": null,
   "id": "0637ca11-7882-43b4-9a1b-6e113eabbb36",
   "metadata": {},
   "outputs": [],
   "source": []
  }
 ],
 "metadata": {
  "kernelspec": {
   "display_name": "Python (FakeNewsEnv)",
   "language": "python",
   "name": "fakenews_env"
  },
  "language_info": {
   "codemirror_mode": {
    "name": "ipython",
    "version": 3
   },
   "file_extension": ".py",
   "mimetype": "text/x-python",
   "name": "python",
   "nbconvert_exporter": "python",
   "pygments_lexer": "ipython3",
   "version": "3.10.0"
  }
 },
 "nbformat": 4,
 "nbformat_minor": 5
}
