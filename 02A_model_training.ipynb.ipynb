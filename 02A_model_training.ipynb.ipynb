{
 "cells": [
  {
   "cell_type": "code",
   "execution_count": 1,
   "id": "1c337727-ed3b-40be-9368-2a7d08ea889d",
   "metadata": {},
   "outputs": [],
   "source": [
    "# 1. Imports\n",
    "import pandas as pd\n",
    "from sklearn.model_selection import train_test_split\n",
    "from sklearn.linear_model import LogisticRegression\n",
    "from sklearn.ensemble import RandomForestClassifier\n",
    "from sklearn.naive_bayes import MultinomialNB\n",
    "from sklearn.metrics import accuracy_score, f1_score, confusion_matrix, classification_report\n",
    "import seaborn as sns\n",
    "import matplotlib.pyplot as plt\n"
   ]
  },
  {
   "cell_type": "code",
   "execution_count": 2,
   "id": "8089cf5a-b6db-4a82-ab5b-b010a4cee018",
   "metadata": {},
   "outputs": [],
   "source": [
    "# 2. Load vectorized data\n",
    "X = pd.read_csv(\"data/processed/vectorized_text.csv\")\n",
    "y = pd.read_csv(\"data/processed/labels.csv\")\n",
    "\n",
    "# Ensure shape matches\n",
    "assert len(X) == len(y), \"Mismatch in features and labels\"\n"
   ]
  },
  {
   "cell_type": "code",
   "execution_count": 3,
   "id": "9f37375b-dadf-4928-87dc-a5bedee91efa",
   "metadata": {},
   "outputs": [],
   "source": [
    "# 3. Train-test split\n",
    "X_train, X_test, y_train, y_test = train_test_split( X, y, test_size=0.3, random_state=42, stratify=y)\n"
   ]
  },
  {
   "cell_type": "code",
   "execution_count": 9,
   "id": "ca4c83f8-04c9-4202-ad16-6df2cdcb5a6d",
   "metadata": {},
   "outputs": [
    {
     "name": "stdout",
     "output_type": "stream",
     "text": [
      "📌 Logistic Regression\n",
      "\n",
      "              precision    recall  f1-score   support\n",
      "\n",
      "           0       0.95      0.96      0.95      8625\n",
      "           1       0.96      0.94      0.95      7809\n",
      "\n",
      "    accuracy                           0.95     16434\n",
      "   macro avg       0.95      0.95      0.95     16434\n",
      "weighted avg       0.95      0.95      0.95     16434\n",
      "\n",
      "--------------------------------------------------\n",
      "📌 Random Forest\n",
      "\n",
      "              precision    recall  f1-score   support\n",
      "\n",
      "           0       0.94      0.98      0.96      8625\n",
      "           1       0.98      0.94      0.96      7809\n",
      "\n",
      "    accuracy                           0.96     16434\n",
      "   macro avg       0.96      0.96      0.96     16434\n",
      "weighted avg       0.96      0.96      0.96     16434\n",
      "\n",
      "--------------------------------------------------\n",
      "📌 Naive Bayes\n",
      "\n",
      "              precision    recall  f1-score   support\n",
      "\n",
      "           0       0.90      0.87      0.88      8625\n",
      "           1       0.86      0.89      0.87      7809\n",
      "\n",
      "    accuracy                           0.88     16434\n",
      "   macro avg       0.88      0.88      0.88     16434\n",
      "weighted avg       0.88      0.88      0.88     16434\n",
      "\n",
      "--------------------------------------------------\n"
     ]
    }
   ],
   "source": [
    "# 4. Train baseline models \n",
    "models = {\n",
    "    \"Logistic Regression\": LogisticRegression(max_iter=1000),\n",
    "    \"Random Forest\": RandomForestClassifier(),\n",
    "    \"Naive Bayes\": MultinomialNB()\n",
    "}\n",
    "\n",
    "results = {}\n",
    "\n",
    "for name, model in models.items():\n",
    "    model.fit(X_train, y_train.values.ravel())\n",
    "    preds = model.predict(X_test)\n",
    "    acc = accuracy_score(y_test, preds)\n",
    "    f1 = f1_score(y_test, preds)\n",
    "    results[name] = {\"Accuracy\": acc, \"F1 Score\": f1}\n",
    "    print(f\"📌 {name}\\n\")\n",
    "    print(classification_report(y_test, preds))\n",
    "    print(\"-\" * 50)\n"
   ]
  },
  {
   "cell_type": "code",
   "execution_count": 10,
   "id": "a42de5e5-a2c0-47f8-a1cf-fde34af09233",
   "metadata": {},
   "outputs": [
    {
     "data": {
      "text/html": [
       "<div>\n",
       "<style scoped>\n",
       "    .dataframe tbody tr th:only-of-type {\n",
       "        vertical-align: middle;\n",
       "    }\n",
       "\n",
       "    .dataframe tbody tr th {\n",
       "        vertical-align: top;\n",
       "    }\n",
       "\n",
       "    .dataframe thead th {\n",
       "        text-align: right;\n",
       "    }\n",
       "</style>\n",
       "<table border=\"1\" class=\"dataframe\">\n",
       "  <thead>\n",
       "    <tr style=\"text-align: right;\">\n",
       "      <th></th>\n",
       "      <th>Accuracy</th>\n",
       "      <th>F1 Score</th>\n",
       "    </tr>\n",
       "  </thead>\n",
       "  <tbody>\n",
       "    <tr>\n",
       "      <th>Logistic Regression</th>\n",
       "      <td>0.950103</td>\n",
       "      <td>0.947022</td>\n",
       "    </tr>\n",
       "    <tr>\n",
       "      <th>Random Forest</th>\n",
       "      <td>0.958744</td>\n",
       "      <td>0.955651</td>\n",
       "    </tr>\n",
       "    <tr>\n",
       "      <th>Naive Bayes</th>\n",
       "      <td>0.878788</td>\n",
       "      <td>0.874369</td>\n",
       "    </tr>\n",
       "  </tbody>\n",
       "</table>\n",
       "</div>"
      ],
      "text/plain": [
       "                     Accuracy  F1 Score\n",
       "Logistic Regression  0.950103  0.947022\n",
       "Random Forest        0.958744  0.955651\n",
       "Naive Bayes          0.878788  0.874369"
      ]
     },
     "metadata": {},
     "output_type": "display_data"
    }
   ],
   "source": [
    "# 5. Compare model performance\n",
    "results_df = pd.DataFrame(results).T\n",
    "display(results_df)\n"
   ]
  },
  {
   "cell_type": "code",
   "execution_count": 5,
   "id": "5f2b5a06-6618-4a8d-839b-a95061ca1170",
   "metadata": {},
   "outputs": [
    {
     "name": "stdout",
     "output_type": "stream",
     "text": [
      "📌 Logistic Regression\n",
      "\n",
      "              precision    recall  f1-score   support\n",
      "\n",
      "           0       0.96      0.97      0.96     20125\n",
      "           1       0.97      0.95      0.96     18218\n",
      "\n",
      "    accuracy                           0.96     38343\n",
      "   macro avg       0.96      0.96      0.96     38343\n",
      "weighted avg       0.96      0.96      0.96     38343\n",
      "\n",
      "--------------------------------------------------\n",
      "📌 Random Forest\n",
      "\n",
      "              precision    recall  f1-score   support\n",
      "\n",
      "           0       1.00      1.00      1.00     20125\n",
      "           1       1.00      1.00      1.00     18218\n",
      "\n",
      "    accuracy                           1.00     38343\n",
      "   macro avg       1.00      1.00      1.00     38343\n",
      "weighted avg       1.00      1.00      1.00     38343\n",
      "\n",
      "--------------------------------------------------\n",
      "📌 Naive Bayes\n",
      "\n",
      "              precision    recall  f1-score   support\n",
      "\n",
      "           0       0.91      0.88      0.89     20125\n",
      "           1       0.87      0.90      0.88     18218\n",
      "\n",
      "    accuracy                           0.89     38343\n",
      "   macro avg       0.89      0.89      0.89     38343\n",
      "weighted avg       0.89      0.89      0.89     38343\n",
      "\n",
      "--------------------------------------------------\n"
     ]
    }
   ],
   "source": [
    "# 4. Train baseline models for overfitting and underfitting testing\n",
    "models = {\n",
    "    \"Logistic Regression\": LogisticRegression(max_iter=1000),\n",
    "    \"Random Forest\": RandomForestClassifier(),\n",
    "    \"Naive Bayes\": MultinomialNB()\n",
    "}\n",
    "\n",
    "results = {}\n",
    "\n",
    "for name, model in models.items():\n",
    "    model.fit(X_train, y_train.values.ravel())\n",
    "    preds = model.predict(X_train)\n",
    "    acc = accuracy_score(y_train, preds)\n",
    "    f1 = f1_score(y_train, preds)\n",
    "    results[name] = {\"Accuracy\": acc, \"F1 Score\": f1}\n",
    "    print(f\"📌 {name}\\n\")\n",
    "    print(classification_report(y_train, preds))\n",
    "    print(\"-\" * 50)"
   ]
  },
  {
   "cell_type": "code",
   "execution_count": 8,
   "id": "536e52a5-6db7-41f4-812b-5bad7478107f",
   "metadata": {},
   "outputs": [
    {
     "data": {
      "image/png": "[encoded data removed]",
      "text/plain": [
       "<Figure size 600x400 with 2 Axes>"
      ]
     },
     "metadata": {},
     "output_type": "display_data"
    }
   ],
   "source": [
    "# 6. Plot confusion matrix for the best model (example: Logistic Regression)\n",
    "best_model = models[\"Random Forest\"]\n",
    "preds = best_model.predict(X_test)\n",
    "cm = confusion_matrix(y_test, preds)\n",
    "\n",
    "plt.figure(figsize=(6, 4))\n",
    "sns.heatmap(cm, annot=True, fmt=\"d\", cmap=\"Blues\", xticklabels=[\"Real\", \"Fake\"], yticklabels=[\"Real\", \"Fake\"])\n",
    "plt.title(\"Confusion Matrix - Random Forest\")\n",
    "plt.xlabel(\"Predicted\")\n",
    "plt.ylabel(\"Actual\")\n",
    "plt.show()\n"
   ]
  },
  {
   "cell_type": "code",
   "execution_count": 13,
   "id": "d22a77a3-0255-4ec4-8b62-550e0c770673",
   "metadata": {},
   "outputs": [
    {
     "name": "stdout",
     "output_type": "stream",
     "text": [
      "WARNING:tensorflow:From C:\\Users\\admin\\fakenews_env\\lib\\site-packages\\tf_keras\\src\\losses.py:2976: The name tf.losses.sparse_softmax_cross_entropy is deprecated. Please use tf.compat.v1.losses.sparse_softmax_cross_entropy instead.\n",
      "\n"
     ]
    }
   ],
   "source": [
    "import torch\n",
    "from transformers import AutoTokenizer, AutoModelForSequenceClassification, Trainer, TrainingArguments\n",
    "from datasets import Dataset\n"
   ]
  },
  {
   "cell_type": "code",
   "execution_count": null,
   "id": "0c2ad149-aba7-4774-9f39-0ee7072dafe8",
   "metadata": {},
   "outputs": [],
   "source": []
  }
 ],
 "metadata": {
  "kernelspec": {
   "display_name": "Python (FakeNewsEnv)",
   "language": "python",
   "name": "fakenews_env"
  },
  "language_info": {
   "codemirror_mode": {
    "name": "ipython",
    "version": 3
   },
   "file_extension": ".py",
   "mimetype": "text/x-python",
   "name": "python",
   "nbconvert_exporter": "python",
   "pygments_lexer": "ipython3",
   "version": "3.10.0"
  }
 },
 "nbformat": 4,
 "nbformat_minor": 5
}
